{
 "cells": [
  {
   "cell_type": "code",
   "execution_count": null,
   "metadata": {},
   "outputs": [],
   "source": [
    "#this chatbot will allow tenants to choose which excercise classes they can take and give them informaiton of availability\n",
    "# this may be come a survey just to ask their favorite offered class\n",
    "#this funciton is defines the classes avaialbe\n",
    "def function ():\n",
    "    print ('Yoga')\n",
    "    print ('Zumba')\n",
    "    print ('kickboxing')\n",
    "print ('I have never taken this class.')\n",
    "\n"
   ]
  },
  {
   "cell_type": "code",
   "execution_count": null,
   "metadata": {},
   "outputs": [],
   "source": [
    "print ('Yoga')"
   ]
  },
  {
   "cell_type": "code",
   "execution_count": null,
   "metadata": {},
   "outputs": [],
   "source": [
    "Amenities = ['Yoga', 'Zumba','Kickboxing']\n",
    "#show the value stored in Amenities then print\n",
    "print (Amenities)\n",
    "\n",
    "             "
   ]
  },
  {
   "cell_type": "code",
   "execution_count": null,
   "metadata": {},
   "outputs": [],
   "source": [
    "#print out yoga from the list use zero as it is the first item listed on the list\n",
    "print (Amenities [0])"
   ]
  },
  {
   "cell_type": "code",
   "execution_count": 16,
   "metadata": {},
   "outputs": [
    {
     "name": "stdout",
     "output_type": "stream",
     "text": [
      "Please Enter Your Name :uu\n",
      "Hello uu,\n",
      "Please enter your unit number888\n",
      "Your unit number is - 888\n"
     ]
    }
   ],
   "source": [
    "#create an input function for name and unit number\n",
    "name = input (\"Please Enter Your Name :\")\n",
    "print ('Hello ' + name + ',')\n",
    "       \n",
    "#Unit_Number = input nt(Unit_Number)\n",
    "Unit_Number = input (\"Please enter your unit number\")\n",
    "print ('Your unit number is - ' + Unit_Number)\n"
   ]
  },
  {
   "cell_type": "code",
   "execution_count": null,
   "metadata": {},
   "outputs": [],
   "source": [
    "#prompt = \"Please tell us about yourself\"\n",
    "#prompt +=\"/n Please provide your full name\"\n",
    "\n",
    "#print (\"\\nHello,\" + name +\",\")\n",
    "#unit_number = (prompt)\n",
    "#prompt = \"What is your unit number?\"\n",
    "#print (\"\\nYour unit number is\" + unit_number) \n",
    "# this works  commented for now"
   ]
  },
  {
   "cell_type": "code",
   "execution_count": null,
   "metadata": {},
   "outputs": [],
   "source": [
    "print = (\"What do you think of the wellenss programs we offer?\")\n",
    "\n",
    "survey = input()\n",
    "\n",
    "if survey == \"I love the choices that are provided\":\n",
    "    print (\"Great, we do our best to please everyone \")\n",
    "\n",
    "elif survey == \"Your company has room to grow, not enough choices are provided\":\n",
    "    print(\"Your company does not provide enough choices\")\n",
    "\n",
    "elif survey == \"I can help you with selecting better choices:  \n",
    "    print (\"We appreciate your offer. When can we reach out to you\")\n",
    "    print (\"The assumption is that you have a lot of time on your hands\")\n",
    "    print (\"Come in to the office and we will keep you busy.\")\n",
    "    "
   ]
  },
  {
   "cell_type": "code",
   "execution_count": null,
   "metadata": {},
   "outputs": [],
   "source": [
    "print (input(\"What class would you like to join? offered_classes[]\"))\n",
    "\n",
    "offered_classes =['Yoga', 'Zumba', 'Kickboxing']\n",
    "\n",
    "\n",
    "first_class = 'Yoga'\n",
    "\n",
    "\n",
    "while offered_classes != \"Yoga\":\n",
    "        print (\"You can choose betwwen the Zumba or Kickboxking classes\""
   ]
  },
  {
   "cell_type": "code",
   "execution_count": null,
   "metadata": {},
   "outputs": [],
   "source": [
    "#offered_classes = input()\n",
    "#answer= \"Yoga\"\n",
    "          \n",
    "while offere_classes == \"Yoga\":\n",
    "            print (\"You have been enrolled in the Yoga class\")\n",
    "        print (\"We will send  you an email with class details\")\n",
    "        print (\"Let us know if you have any questions.\")\n",
    "        \n",
    "        continue\n",
    "        \n",
    "second_class= 'Zumba'\n",
    "\n",
    "        if offered_classes == \"Zumba\":\n",
    "            print (\"You have been enrolled in the Zumba class.\")\n",
    "        print (\"We will send  you an email with class details\")\n",
    "        print (\"Let us know if you have any questions.\")\n",
    "        \n",
    "        continue\n",
    "third_class='Kickboxing'              \n",
    "        if offered_classes == \"Kickboxing\":\n",
    "            offered_classes = input()\n",
    "        print (\"You have been enrolled in the Kickboxing class.\")\n",
    "        print(\"We will send  you an email with class details\")\n",
    "        print (\"Let us know if you have any questions.\")\n",
    "        \n",
    "        continue\n",
    "else:\n",
    "        print (\"All classes are full try your luck next time\")\n",
    "      \n",
    "        break\n",
    "        "
   ]
  },
  {
   "cell_type": "code",
   "execution_count": null,
   "metadata": {},
   "outputs": [],
   "source": [
    "x = text.replace (\"your\", \"i\")\n",
    "print (x)\n",
    "#help"
   ]
  },
  {
   "cell_type": "code",
   "execution_count": null,
   "metadata": {},
   "outputs": [],
   "source": [
    "y= text.replace (\"class, myclass\")\n",
    "#help is this what we are supposed to do for the Eliza quesiton????"
   ]
  },
  {
   "cell_type": "code",
   "execution_count": null,
   "metadata": {},
   "outputs": [],
   "source": [
    "#s=input(\"enter a string:\")\n",
    "#find_word = input (\"enter the word to find:\")\n",
    "#replace = input (\"ener the word to replace:\")"
   ]
  },
  {
   "cell_type": "code",
   "execution_count": null,
   "metadata": {},
   "outputs": [],
   "source": [
    "s= input (\"your input:\")\n",
    "find_word = input(\"your:\")\n",
    "replace = input(\"i\":)\n",
    "#this may work how to connect to previous code is the question"
   ]
  },
  {
   "cell_type": "code",
   "execution_count": null,
   "metadata": {},
   "outputs": [],
   "source": [
    "#find and replace in my text document called find_replace\n",
    "import re\n",
    "def main():\n",
    "#create a file handle\n",
    "    fh = open (\"find_replace.txt)\n",
    "    for line in fh:\n",
    "               print (re,sub('you', \"YOU\", line), end= '')\n",
    "               \n",
    "if __name__ \"_main__\": main()"
   ]
  },
  {
   "cell_type": "code",
   "execution_count": null,
   "metadata": {},
   "outputs": [],
   "source": []
  },
  {
   "cell_type": "code",
   "execution_count": null,
   "metadata": {},
   "outputs": [],
   "source": []
  }
 ],
 "metadata": {
  "kernelspec": {
   "display_name": "Python 3",
   "language": "python",
   "name": "python3"
  },
  "language_info": {
   "codemirror_mode": {
    "name": "ipython",
    "version": 3
   },
   "file_extension": ".py",
   "mimetype": "text/x-python",
   "name": "python",
   "nbconvert_exporter": "python",
   "pygments_lexer": "ipython3",
   "version": "3.7.6"
  }
 },
 "nbformat": 4,
 "nbformat_minor": 4
}
